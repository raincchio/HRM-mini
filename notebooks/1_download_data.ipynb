{
 "cells": [
  {
   "cell_type": "code",
   "id": "initial_id",
   "metadata": {
    "collapsed": true,
    "ExecuteTime": {
     "end_time": "2025-10-15T04:57:12.000553Z",
     "start_time": "2025-10-15T04:57:11.365401Z"
    }
   },
   "source": [
    "from datasets import load_dataset\n",
    "\n",
    "# We have already uploaded the data, so you can ignore this notebook.\n",
    "# Keep this to show the complete process.\n",
    "dataset = load_dataset(\"sapientinc/sudoku-extreme-1k\")\n",
    "\n",
    "dataset[\"train\"].to_csv(\"data/train.csv\")\n",
    "dataset[\"test_hard\"].to_csv(\"data/test.csv\")\n",
    "dataset[\"test_sudoku_bench\"].to_csv(\"data/test_sudoku_bench.csv\")\n",
    "\n"
   ],
   "outputs": [
    {
     "name": "stderr",
     "output_type": "stream",
     "text": [
      "Generating train split: 1000 examples [00:00, 112072.25 examples/s]"
     ]
    },
    {
     "name": "stdout",
     "output_type": "stream",
     "text": [
      "DatasetDict({\n",
      "    train: Dataset({\n",
      "        features: ['source', 'question', 'answer', 'rating'],\n",
      "        num_rows: 1000\n",
      "    })\n",
      "})\n"
     ]
    },
    {
     "name": "stderr",
     "output_type": "stream",
     "text": [
      "\n"
     ]
    }
   ],
   "execution_count": 10
  },
  {
   "metadata": {},
   "cell_type": "code",
   "outputs": [],
   "execution_count": null,
   "source": "",
   "id": "d906c6b02f1f0abb"
  }
 ],
 "metadata": {
  "kernelspec": {
   "display_name": "Python 3",
   "language": "python",
   "name": "python3"
  },
  "language_info": {
   "codemirror_mode": {
    "name": "ipython",
    "version": 2
   },
   "file_extension": ".py",
   "mimetype": "text/x-python",
   "name": "python",
   "nbconvert_exporter": "python",
   "pygments_lexer": "ipython2",
   "version": "2.7.6"
  }
 },
 "nbformat": 4,
 "nbformat_minor": 5
}
