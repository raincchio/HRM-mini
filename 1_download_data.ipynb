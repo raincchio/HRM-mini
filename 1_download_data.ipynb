{
 "cells": [
  {
   "cell_type": "code",
   "id": "initial_id",
   "metadata": {
    "collapsed": true,
    "ExecuteTime": {
     "end_time": "2025-10-14T03:49:54.049634Z",
     "start_time": "2025-10-14T03:49:53.998163Z"
    }
   },
   "source": [
    "from datasets import load_dataset\n",
    "import os\n",
    "\n",
    "os.environ[\"http_proxy\"] = \"http://127.0.0.1:18888\"\n",
    "os.environ[\"https_proxy\"] = \"http://127.0.0.1:18888\"\n",
    "\n",
    "\n",
    "dataset = \"sapientinc/sudoku-extreme-1k\"\n",
    "dataset = load_dataset(dataset, cache_dir=\"/data/sudoku-extreme-1k\")\n",
    "print(dataset)\n",
    "\n",
    "# check specific data\n",
    "dataset[\"train\"].to_json(\"./data/sudoku-extreme-1k_train.json\")\n",
    "dataset[\"test_hard\"].to_json(\"./data/sudoku-extreme-1k_test.json\")\n",
    "dataset[\"test_sudoku_bench\"].to_json(\"./data/sudoku-extreme-1k_test_sudoku_bench.json\")"
   ],
   "execution_count": 7,
   "outputs": [
    {
     "name": "stderr",
     "output_type": "stream",
     "text": [
      "Generating train split: 1 examples [00:00, 425.34 examples/s]\n",
      "Generating test split: 2 examples [00:00, 768.12 examples/s]"
     ]
    },
    {
     "name": "stdout",
     "output_type": "stream",
     "text": [
      "DatasetDict({\n",
      "    train: Dataset({\n",
      "        features: ['_data_files', '_fingerprint', '_format_columns', '_format_kwargs', '_format_type', '_output_all_columns', '_split'],\n",
      "        num_rows: 1\n",
      "    })\n",
      "    test: Dataset({\n",
      "        features: ['_data_files', '_fingerprint', '_format_columns', '_format_kwargs', '_format_type', '_output_all_columns', '_split'],\n",
      "        num_rows: 2\n",
      "    })\n",
      "})\n"
     ]
    },
    {
     "name": "stderr",
     "output_type": "stream",
     "text": [
      "\n"
     ]
    }
   ]
  },
  {
   "metadata": {},
   "cell_type": "code",
   "outputs": [],
   "execution_count": null,
   "source": "",
   "id": "d906c6b02f1f0abb"
  }
 ],
 "metadata": {
  "kernelspec": {
   "display_name": "Python 3",
   "language": "python",
   "name": "python3"
  },
  "language_info": {
   "codemirror_mode": {
    "name": "ipython",
    "version": 2
   },
   "file_extension": ".py",
   "mimetype": "text/x-python",
   "name": "python",
   "nbconvert_exporter": "python",
   "pygments_lexer": "ipython2",
   "version": "2.7.6"
  }
 },
 "nbformat": 4,
 "nbformat_minor": 5
}
